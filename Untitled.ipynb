{
 "cells": [
  {
   "cell_type": "code",
   "execution_count": 1,
   "metadata": {},
   "outputs": [],
   "source": [
    "import json"
   ]
  },
  {
   "cell_type": "code",
   "execution_count": 2,
   "metadata": {},
   "outputs": [],
   "source": [
    "f = open('raw_files/test_jupyter.ipynb', 'r')\n",
    "jp_file = json.loads(f.read())"
   ]
  },
  {
   "cell_type": "code",
   "execution_count": 3,
   "metadata": {},
   "outputs": [
    {
     "data": {
      "text/plain": [
       "{'cell_type': 'code',\n",
       " 'execution_count': 1,\n",
       " 'metadata': {},\n",
       " 'outputs': [],\n",
       " 'source': ['knitr::opts_chunk$set(echo = TRUE)']}"
      ]
     },
     "execution_count": 3,
     "metadata": {},
     "output_type": "execute_result"
    }
   ],
   "source": [
    "jp_file['cells'][0]"
   ]
  },
  {
   "cell_type": "code",
   "execution_count": 4,
   "metadata": {},
   "outputs": [
    {
     "name": "stdout",
     "output_type": "stream",
     "text": [
      "```{R}\n",
      "knitr::opts_chunk$set(echo = TRUE)\n",
      "```\n",
      "\n",
      "## R Markdown\n",
      "\n",
      "```{R}\n",
      "summary(cars)\n",
      "```\n",
      "\n",
      "## Including Plots\n",
      "\n",
      "```{R}\n",
      "plot(pressure)\n",
      "```\n",
      "\n",
      "Note that the `echo = FALSE` parameter was added to the code chunk to prevent printing of the R code that generated the plot.\n"
     ]
    }
   ],
   "source": [
    "for cell in jp_file['cells']:\n",
    "    if cell['cell_type'] == 'code':\n",
    "        print(f\"\"\"```{{R}}\\n{cell['source'][0]}\\n```\\n\"\"\")\n",
    "    elif cell['cell_type'] == 'markdown':\n",
    "        print(f\"{cell['source'][0]}\")"
   ]
  },
  {
   "cell_type": "code",
   "execution_count": 5,
   "metadata": {},
   "outputs": [
    {
     "data": {
      "text/plain": [
       "{'kernelspec': {'display_name': 'R', 'language': 'R', 'name': 'ir'},\n",
       " 'language_info': {'codemirror_mode': 'r',\n",
       "  'file_extension': '.r',\n",
       "  'mimetype': 'text/x-r-source',\n",
       "  'name': 'R',\n",
       "  'pygments_lexer': 'r',\n",
       "  'version': '3.5.3'}}"
      ]
     },
     "execution_count": 5,
     "metadata": {},
     "output_type": "execute_result"
    }
   ],
   "source": [
    "jp_file['metadata']"
   ]
  },
  {
   "cell_type": "code",
   "execution_count": 6,
   "metadata": {},
   "outputs": [
    {
     "data": {
      "text/plain": [
       "4"
      ]
     },
     "execution_count": 6,
     "metadata": {},
     "output_type": "execute_result"
    }
   ],
   "source": [
    "jp_file['nbformat']"
   ]
  },
  {
   "cell_type": "code",
   "execution_count": 7,
   "metadata": {},
   "outputs": [
    {
     "data": {
      "text/plain": [
       "2"
      ]
     },
     "execution_count": 7,
     "metadata": {},
     "output_type": "execute_result"
    }
   ],
   "source": [
    "jp_file['nbformat_minor']"
   ]
  }
 ],
 "metadata": {
  "kernelspec": {
   "display_name": "Python 3",
   "language": "python",
   "name": "python3"
  },
  "language_info": {
   "codemirror_mode": {
    "name": "ipython",
    "version": 3
   },
   "file_extension": ".py",
   "mimetype": "text/x-python",
   "name": "python",
   "nbconvert_exporter": "python",
   "pygments_lexer": "ipython3",
   "version": "3.6.8"
  }
 },
 "nbformat": 4,
 "nbformat_minor": 2
}
