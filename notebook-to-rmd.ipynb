{
 "cells": [
  {
   "cell_type": "code",
   "execution_count": 76,
   "metadata": {},
   "outputs": [],
   "source": [
    "import json"
   ]
  },
  {
   "cell_type": "code",
   "execution_count": 77,
   "metadata": {},
   "outputs": [],
   "source": [
    "f = open('raw_files/test_python_notebook.ipynb', 'r')\n",
    "jp_file = json.loads(f.read())"
   ]
  },
  {
   "cell_type": "code",
   "execution_count": 78,
   "metadata": {},
   "outputs": [],
   "source": [
    "lang = jp_file['metadata']['kernelspec']['language'].lower()"
   ]
  },
  {
   "cell_type": "code",
   "execution_count": 79,
   "metadata": {},
   "outputs": [],
   "source": [
    "file_lines = []\n",
    "\n",
    "for cell in jp_file['cells']:\n",
    "    if cell['cell_type'] == 'code':\n",
    "        cell_code = []\n",
    "        for loc in cell['source']:\n",
    "            cell_code.append(loc)\n",
    "        cell_code = ''.join(cell_code)\n",
    "        \n",
    "        start_template = f\"\"\"```{{{lang}}}\\n\"\"\"\n",
    "        end_template = f\"\"\"\\n```\\n\\n\"\"\"\n",
    "        \n",
    "        file_lines.append(start_template + cell_code + end_template)\n",
    "    elif cell['cell_type'] == 'markdown':\n",
    "        \n",
    "        cell_md = []\n",
    "        \n",
    "        for md_line in cell['source']:\n",
    "            cell_md.append(md_line)\n",
    "        \n",
    "        cell_md = ''.join(cell_md) + '\\n\\n'\n",
    "        file_lines.append(cell_md)"
   ]
  },
  {
   "cell_type": "code",
   "execution_count": 80,
   "metadata": {},
   "outputs": [],
   "source": [
    "new_file = open('new_rmd.Rmd', 'w+')\n",
    "new_file.write(''.join(file_lines))\n",
    "new_file.close()"
   ]
  },
  {
   "cell_type": "code",
   "execution_count": 81,
   "metadata": {},
   "outputs": [
    {
     "data": {
      "text/plain": [
       "{'kernelspec': {'display_name': 'Python 3',\n",
       "  'language': 'python',\n",
       "  'name': 'python3'},\n",
       " 'language_info': {'codemirror_mode': {'name': 'ipython', 'version': 3},\n",
       "  'file_extension': '.py',\n",
       "  'mimetype': 'text/x-python',\n",
       "  'name': 'python',\n",
       "  'nbconvert_exporter': 'python',\n",
       "  'pygments_lexer': 'ipython3',\n",
       "  'version': '3.6.8'}}"
      ]
     },
     "execution_count": 81,
     "metadata": {},
     "output_type": "execute_result"
    }
   ],
   "source": [
    "jp_file['metadata']"
   ]
  }
 ],
 "metadata": {
  "kernelspec": {
   "display_name": "Python 3",
   "language": "python",
   "name": "python3"
  },
  "language_info": {
   "codemirror_mode": {
    "name": "ipython",
    "version": 3
   },
   "file_extension": ".py",
   "mimetype": "text/x-python",
   "name": "python",
   "nbconvert_exporter": "python",
   "pygments_lexer": "ipython3",
   "version": "3.6.8"
  }
 },
 "nbformat": 4,
 "nbformat_minor": 2
}
